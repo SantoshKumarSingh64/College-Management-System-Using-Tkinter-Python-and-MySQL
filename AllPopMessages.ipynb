{
 "cells": [
  {
   "cell_type": "code",
   "execution_count": null,
   "metadata": {},
   "outputs": [],
   "source": [
    "#all popup messages\n",
    "\n",
    "\n",
    "#added_popup function gives message to user that given information is added to databases\n",
    "def added_popup():\n",
    "  response=messagebox.showinfo(\"MESSAGE\",\"Added\")\n",
    "  return response\n",
    "\n",
    "#deleted_popup function gives message to user that given information is deleted from databases\n",
    "def deleted_popup():\n",
    "  response=messagebox.showwarning(\"WARNING\",\"Deleted\")\n",
    "  return response\n",
    "\n",
    "#created_popup function gives message to user that account is created and related given information is added to databases\n",
    "def created_popup():\n",
    "  response=messagebox.showinfo(\"MESSAGE\",\"Created\")\n",
    "  return response\n",
    "\n",
    "#edited_popup function gives message to user that given information is edited to related account to databases\n",
    "def edited_popup():\n",
    "  response=messagebox.showinfo(\"MESSAGE\",\"Edited\")\n",
    "  return response\n",
    "\n",
    "#creation_error_popup function gives message to user that given information has been already added to databases\n",
    "def creation_error_popup():\n",
    "  response=messagebox.showwarning(\"WARNING\",\"THIS USERNAME ALREADY HAS BEEN ADDED\")\n",
    "  return response\n",
    "\n",
    "#not_found_popup function gives message to user that given information is found in databases\n",
    "def not_found_popup():\n",
    "  response=messagebox.showwarning(\"WARNING\",\"THIS ACCOUNT IS NOT FOUND\")\n",
    "  return response\n",
    "\n",
    "#login_popup function gives message to user that given login information is not correct according to databases\n",
    "def login_popup():\n",
    "  messagebox.showwarning(\"WARNING\",\"Either Username or Password is wrong\")"
   ]
  }
 ],
 "metadata": {
  "kernelspec": {
   "display_name": "Python 3",
   "language": "python",
   "name": "python3"
  },
  "language_info": {
   "codemirror_mode": {
    "name": "ipython",
    "version": 3
   },
   "file_extension": ".py",
   "mimetype": "text/x-python",
   "name": "python",
   "nbconvert_exporter": "python",
   "pygments_lexer": "ipython3",
   "version": "3.7.3"
  }
 },
 "nbformat": 4,
 "nbformat_minor": 2
}
