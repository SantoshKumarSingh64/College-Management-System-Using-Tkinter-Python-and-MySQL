{
 "cells": [
  {
   "cell_type": "code",
   "execution_count": null,
   "metadata": {},
   "outputs": [],
   "source": [
    "#edit_teacher_profile1 function is used to save edited data into database\n",
    "def edit_teacher_profile_account1():\n",
    "  global passwd\n",
    "  passwd=str(edit_teacher_profile_passwd_entry.get())\n",
    "  query=\"UPDATE teacher SET F_NAME='\"+str(edit_teacher_profile_f_name_entry.get())+\"',L_NAME='\"+str(edit_teacher_profile_l_name_entry.get())+\"',PASSWORD='\"+str(edit_teacher_profile_passwd_entry.get())+\"' WHERE USERNAME = '\"+user+\"'\"\n",
    "  c.execute(query)\n",
    "  mydb.commit()\n",
    "  response=edited_popup()\n",
    "  if response=='ok':\n",
    "    root2_1.destroy()\n",
    "    root_2()\n",
    "\n",
    "\n",
    "#edit_teacher_profile function is used to take input edited data\n",
    "def edit_teacher_profile():\n",
    "  root2.destroy()\n",
    "  global root2_1\n",
    "  root2_1=Tk()\n",
    "  root2_1.title(\"COLLEGE MANGEMENT SYSTEM\")\n",
    "  root2_1.geometry('360x270')  \n",
    "  frame1=LabelFrame(root2_1,text='EDIT YOUR PROFILE',padx=10,pady=10)\n",
    "  frame1.pack(padx=5,pady=5)\n",
    "  #search query\n",
    "  query=\"SELECT * FROM teacher WHERE USERNAME like '\"+user+\"' AND PASSWORD ='\"+passwd+\"'\"\n",
    "  c.execute(query)\n",
    "  result=c.fetchone()\n",
    "\n",
    "  username_label=Label(frame1,text='Username/Email :',padx=10,pady=10)\n",
    "  username_label.grid(row=0,column=0)\n",
    "  username_label1=Label(frame1,text=result[0],padx=10,pady=10)\n",
    "  username_label1.grid(row=0,column=1)\n",
    "\n",
    "  password_label=Label(frame1,text='Password :',padx=10,pady=10)\n",
    "  password_label.grid(row=1,column=0)\n",
    "  f_name=Label(frame1,text='First Name :',padx=10,pady=10)\n",
    "  f_name.grid(row=2,column=0)\n",
    "  l_name=Label(frame1,text='Last Name :',padx=10,pady=10)\n",
    "  l_name.grid(row=3,column=0)\n",
    "\n",
    "  global edit_teacher_profile_passwd_entry\n",
    "  edit_teacher_profile_passwd_entry=Entry(frame1,width=30,bd=2)\n",
    "  edit_teacher_profile_passwd_entry.grid(row=1,column=1)\n",
    "  edit_teacher_profile_passwd_entry.insert(0,result[3])\n",
    "  global edit_teacher_profile_f_name_entry\n",
    "  edit_teacher_profile_f_name_entry=Entry(frame1,width=30,bd=2)\n",
    "  edit_teacher_profile_f_name_entry.grid(row=2,column=1)\n",
    "  edit_teacher_profile_f_name_entry.insert(0,result[1])\n",
    "  global edit_teacher_profile_l_name_entry\n",
    "  edit_teacher_profile_l_name_entry=Entry(frame1,width=30,bd=2)\n",
    "  edit_teacher_profile_l_name_entry.grid(row=3,column=1)\n",
    "  edit_teacher_profile_l_name_entry.insert(0,result[2])\n",
    "  edit_teacher_button=Button(frame1,text='Edit',width=10,command=edit_teacher_profile_account1)\n",
    "  edit_teacher_button.grid(row=4,column=0,pady=10)\n",
    "  cancel_button=Button(frame1,text='Cancel',width=10,command=back_to_root2)\n",
    "  cancel_button.grid(row=4,column=1,pady=10)"
   ]
  }
 ],
 "metadata": {
  "kernelspec": {
   "display_name": "Python 3",
   "language": "python",
   "name": "python3"
  },
  "language_info": {
   "codemirror_mode": {
    "name": "ipython",
    "version": 3
   },
   "file_extension": ".py",
   "mimetype": "text/x-python",
   "name": "python",
   "nbconvert_exporter": "python",
   "pygments_lexer": "ipython3",
   "version": "3.7.3"
  }
 },
 "nbformat": 4,
 "nbformat_minor": 2
}
