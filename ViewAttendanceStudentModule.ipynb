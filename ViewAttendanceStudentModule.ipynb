{
 "cells": [
  {
   "cell_type": "code",
   "execution_count": null,
   "metadata": {},
   "outputs": [],
   "source": [
    "#back_to_root2 function is used to got out from view_attendance page\n",
    "def back_to_root3():\n",
    "  root3_1.destroy()\n",
    "  root_3()\n",
    "\n",
    "\n",
    "\n",
    "#view_attendance function is used to view attendance of student who is login \n",
    "def view_attendance():\n",
    "  root3.destroy()\n",
    "  global root3_1\n",
    "  root3_1=Tk()\n",
    "  root3_1.title(\"COLLEGE MANGEMENT SYSTEM\")\n",
    "  root3_1.geometry('320x240')  \n",
    "  frame1=LabelFrame(root3_1,text='VIEW ATTENDANCE',padx=10,pady=10)\n",
    "  frame1.pack(padx=5,pady=5)\n",
    "  \n",
    "  #search_query\n",
    "  query=\"SELECT ATTENDANCE,TOTAL_ATTENDANCE,ATTENDANCE_PERCENTAGE FROM btech WHERE ROLL_NO like '\"+student_user+\"' AND PASSWORD ='\"+student_passwd+\"'\"\n",
    "  c.execute(query)\n",
    "  result=c.fetchone()\n",
    "\n",
    "  attendance_label=Label(frame1,text='Attendance :',padx=10,pady=10)\n",
    "  attendance_label.grid(row=0,column=0)\n",
    "  total_attendance_label=Label(frame1,text='Total Attendance :',padx=10,pady=10)\n",
    "  total_attendance_label.grid(row=1,column=0)\n",
    "  attendance_percentage_label=Label(frame1,text='Attendance Percentage :',padx=10,pady=10)\n",
    "  attendance_percentage_label.grid(row=2,column=0)\n",
    "  \n",
    "  attendance_label1=Label(frame1,text=result[0],padx=10,pady=10)\n",
    "  attendance_label1.grid(row=0,column=1)\n",
    "  total_attendance_label1=Label(frame1,text=result[1],padx=10,pady=10)\n",
    "  total_attendance_label1.grid(row=1,column=1)\n",
    "  attendance_percentage_label1=Label(frame1,text=result[2],padx=10,pady=10)\n",
    "  attendance_percentage_label1.grid(row=2,column=1)\n",
    "\n",
    "  back_button=Button(frame1,text='Back',width=10,command=back_to_root3)\n",
    "  back_button.grid(row=3,column=0,pady=10,columnspan=2)\n",
    "  \n",
    "  root3_1.mainloop()"
   ]
  }
 ],
 "metadata": {
  "kernelspec": {
   "display_name": "Python 3",
   "language": "python",
   "name": "python3"
  },
  "language_info": {
   "codemirror_mode": {
    "name": "ipython",
    "version": 3
   },
   "file_extension": ".py",
   "mimetype": "text/x-python",
   "name": "python",
   "nbconvert_exporter": "python",
   "pygments_lexer": "ipython3",
   "version": "3.7.3"
  }
 },
 "nbformat": 4,
 "nbformat_minor": 2
}
