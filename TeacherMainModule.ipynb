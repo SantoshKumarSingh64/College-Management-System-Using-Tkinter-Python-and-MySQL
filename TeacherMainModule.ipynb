{
 "cells": [
  {
   "cell_type": "code",
   "execution_count": null,
   "metadata": {},
   "outputs": [],
   "source": [
    "#teacher function is used to take actions like add attendance,add mark,edit profile and logout\n",
    "def root_2():\n",
    "  global root2 \n",
    "  root2=Tk()\n",
    "  root2.title(\"COLLEGE MANGEMENT SYSTEM\")\n",
    "  root2.geometry('210x360')  \n",
    "  frame1=LabelFrame(root2,text='TEACHER PAGE',padx=10,pady=10)\n",
    "  frame1.pack(padx=5,pady=5)\n",
    "  \n",
    "  #this button is used to add attendance\n",
    "  add_attendance_button=Button(frame1,text='Add Attendance',font=('Helvetica',10),padx=10,pady=10,command=add_attendance)\n",
    "  add_attendance_button.grid(row=0,column=0,padx=10,pady=15)\n",
    "\n",
    "  #this button is used to add mark\n",
    "  add_mark_button=Button(frame1,text='Add Mark',font=('Helvetica',10),padx=10,pady=10,command=add_mark)\n",
    "  add_mark_button.grid(row=1,column=0,padx=10,pady=15)\n",
    "\n",
    "  #this button is used to edit his profile\n",
    "  edit_profile_button=Button(frame1,text='Edit Your Profile',font=('Helvetica',10),padx=10,pady=10,comman=edit_teacher_profile)\n",
    "  edit_profile_button.grid(row=2,column=0,padx=10,pady=15)\n",
    "\n",
    "  #this button is used to logout\n",
    "  logout_button=Button(frame1,text='Logout',font=('Helvetica',10),bg='RED',padx=10,pady=10,comman=logout_teacher)\n",
    "  logout_button.grid(row=3,column=0,columnspan=2,pady=15)  \n",
    "  root2.mainloop()"
   ]
  }
 ],
 "metadata": {
  "kernelspec": {
   "display_name": "Python 3",
   "language": "python",
   "name": "python3"
  },
  "language_info": {
   "codemirror_mode": {
    "name": "ipython",
    "version": 3
   },
   "file_extension": ".py",
   "mimetype": "text/x-python",
   "name": "python",
   "nbconvert_exporter": "python",
   "pygments_lexer": "ipython3",
   "version": "3.7.3"
  }
 },
 "nbformat": 4,
 "nbformat_minor": 2
}
