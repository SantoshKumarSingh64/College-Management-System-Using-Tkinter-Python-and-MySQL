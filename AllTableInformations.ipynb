{
 "cells": [
  {
   "cell_type": "code",
   "execution_count": null,
   "metadata": {},
   "outputs": [],
   "source": [
    "                 BTECH TABLE  INFORMATION\n",
    " ------------------------------------------------------------    \n",
    "|  Field                | Type        | Null | Key | Default | \n",
    "|-----------------------+-------------+------+-----+---------|\n",
    "| BRANCH                | varchar(20) | YES  |     | NULL    |       \n",
    "| YEAR                  | int         | YES  |     | NULL    |       \n",
    "| ROLL_NO               | varchar(30) | YES  |     | NULL    |       \n",
    "| PASSWORD              | varchar(30) | YES  |     | NULL    |       \n",
    "| F_NAME                | varchar(30) | YES  |     | NULL    |       \n",
    "| L_NAME                | varchar(30) | YES  |     | NULL    |       \n",
    "| MID1                  | int         | YES  |     | NULL    |       \n",
    "| MID2                  | int         | YES  |     | NULL    |      \n",
    "| PU                    | int         | YES  |     | NULL    |       \n",
    "| FINAL_INTERNAL        | int         | YES  |     | NULL    |       \n",
    "| ATTENDANCE            | int         | YES  |     | NULL    |      \n",
    "| TOTAL_ATTENDANCE      | int         | YES  |     | NULL    |      \n",
    "| ATTENDANCE_PERCENTAGE | varchar(10) | YES  |     | NULL    |\n",
    " ------------------------------------------------------------\n",
    "    \n",
    "    \n",
    "    \n",
    "            ADMIN TABLE INFORMATIONS\n",
    " -----------------------------------------------\n",
    "| Field    | Type        | Null | Key | Default | \n",
    "|----------+-------------+------+-----+---------|\n",
    "| USER     | varchar(20) | YES  |     | NULL    |       \n",
    "| PASSWORD | varchar(20) | YES  |     | NULL    |   \n",
    " -----------------------------------------------\n",
    "        \n",
    "           \n",
    "            \n",
    "            TEACHER TABLE INFORMATIONS           \n",
    " -----------------------------------------------\n",
    "| Field    | Type        | Null | Key | Default |  \n",
    "|----------+-------------+------+-----+---------|\n",
    "| USERNAME | varchar(30) | YES  |     | NULL    |       \n",
    "| F_NAME   | varchar(30) | YES  |     | NULL    |       \n",
    "| L_NAME   | varchar(30) | YES  |     | NULL    |       \n",
    "| PASSWORD | varchar(30) | YES  |     | NULL    |       \n",
    " -----------------------------------------------"
   ]
  }
 ],
 "metadata": {
  "kernelspec": {
   "display_name": "Python 3",
   "language": "python",
   "name": "python3"
  },
  "language_info": {
   "codemirror_mode": {
    "name": "ipython",
    "version": 3
   },
   "file_extension": ".py",
   "mimetype": "text/x-python",
   "name": "python",
   "nbconvert_exporter": "python",
   "pygments_lexer": "ipython3",
   "version": "3.7.3"
  }
 },
 "nbformat": 4,
 "nbformat_minor": 2
}
