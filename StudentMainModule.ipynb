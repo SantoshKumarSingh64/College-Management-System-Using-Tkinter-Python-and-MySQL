{
 "cells": [
  {
   "cell_type": "raw",
   "metadata": {},
   "source": [
    "#this is student function,this functions gives students to view their attendance,mark,and edit their profiln#this is student function,this functions gives students to view their attendance,mark,and edit their profile\n",
    "def root_3():\n",
    "  global root3\n",
    "  root3=Tk()\n",
    "  root3.title(\"COLLEGE MANGEMENT SYSTEM\")\n",
    "  root3.geometry('210x360')  \n",
    "  frame1=LabelFrame(root3,text='STUDENT PAGE',padx=10,pady=10)\n",
    "  frame1.pack(padx=5,pady=5)\n",
    "  \n",
    "  #this button does work of view_attedance function\n",
    "  view_attendance_button=Button(frame1,text='View Attendance',font=('Helvetica',10),padx=10,pady=10,command=view_attendance)\n",
    "  view_attendance_button.grid(row=0,column=0,padx=10,pady=15)\n",
    "\n",
    "  #this button does work of view_mark function \n",
    "  view_mark_button=Button(frame1,text='View Mark',font=('Helvetica',10),padx=10,pady=10,command=view_mark)\n",
    "  view_mark_button.grid(row=1,column=0,padx=10,pady=15)\n",
    "\n",
    "  #this button does work of edit_student_profile function\n",
    "  edit_profile_button=Button(frame1,text='Edit Your Profile',font=('Helvetica',10),padx=10,pady=10,comman=edit_student_profile)\n",
    "  edit_profile_button.grid(row=2,column=0,padx=10,pady=15)\n",
    "\n",
    "  #using this button,student can logout\n",
    "  logout_button=Button(frame1,text='Logout',font=('Helvetica',10),bg='RED',padx=10,pady=10,comman=logout_student)\n",
    "  logout_button.grid(row=3,column=0,columnspan=2,pady=15)  \n",
    "  \n",
    "  root3.mainloop()"
   ]
  }
 ],
 "metadata": {
  "kernelspec": {
   "display_name": "Python 3",
   "language": "python",
   "name": "python3"
  },
  "language_info": {
   "codemirror_mode": {
    "name": "ipython",
    "version": 3
   },
   "file_extension": ".py",
   "mimetype": "text/x-python",
   "name": "python",
   "nbconvert_exporter": "python",
   "pygments_lexer": "ipython3",
   "version": "3.7.3"
  }
 },
 "nbformat": 4,
 "nbformat_minor": 2
}
