{
 "cells": [
  {
   "cell_type": "code",
   "execution_count": null,
   "metadata": {},
   "outputs": [],
   "source": [
    "#admin function gives admin different options(create account of students and teachers,edit account of students and teachers,delete account of students and teachers,edit his own profile) to take action\n",
    "def root_1():\n",
    "  global root1\n",
    "  root1=Tk()\n",
    "  root1.title(\"COLLEGE MANGEMENT SYSTEM\")\n",
    "  root1.geometry('290x400')\n",
    "\n",
    "  frame1=LabelFrame(root1,text='ADMIN PAGE',padx=10,pady=10)\n",
    "  frame1.pack(padx=5,pady=5)\n",
    "  \n",
    "  #this button is used to create accounts\n",
    "  account_button=Button(frame1,text='Create Account',font=('Helvetica',10),padx=10,pady=10,command=create_account)\n",
    "  account_button.grid(row=0,column=0,padx=10,pady=15)\n",
    "\n",
    "  global root1_clicked\n",
    "  root1_clicked=StringVar()\n",
    "  root1_clicked.set(\"TEACHER\")\n",
    "  #this optionmenu gives option to create account of student or teacher\n",
    "  account_option=OptionMenu(frame1,root1_clicked,\"STUDENT\",\"TEACHER\")\n",
    "  account_option.grid(row=0,column=1)\n",
    "\n",
    "  #this button is used to edit accounts\n",
    "  edit_button=Button(frame1,text='Edit Account',font=('Helvetica',10),padx=10,pady=10,command=edit_account)\n",
    "  edit_button.grid(row=1,column=0,padx=10,pady=15)\n",
    "\n",
    "  global root1_clicked1\n",
    "  root1_clicked1=StringVar()\n",
    "  root1_clicked1.set(\"STUDENT\")\n",
    "  #this optionmenu gives option to edit account of student or teacher\n",
    "  account_option1=OptionMenu(frame1,root1_clicked1,\"STUDENT\",\"TEACHER\")\n",
    "  account_option1.grid(row=1,column=1)\n",
    "\n",
    "\n",
    "  #this button is used to delete accounts\n",
    "  delete_button=Button(frame1,text='Delete Account',font=('Helvetica',10),padx=10,pady=10,command=delete_account)\n",
    "  delete_button.grid(row=2,column=0,padx=10,pady=15)\n",
    "\n",
    "  global root1_clicked2\n",
    "  root1_clicked2=StringVar()\n",
    "  root1_clicked2.set(\"STUDENT\")\n",
    "  #this optionmenu gives option to delete account of student or teacher\n",
    "  account_option2=OptionMenu(frame1,root1_clicked2,\"STUDENT\",\"TEACHER\")\n",
    "  account_option2.grid(row=2,column=1)\n",
    "\n",
    "  #this button is used to edit his profile\n",
    "  edit_button1=Button(frame1,text='EDIT YOUR PROFILE',command=edit_admin)\n",
    "  edit_button1.grid(row=3,column=0,columnspan=2,padx=10,pady=15)  \n",
    "\n",
    "  #logout_button\n",
    "  logout_button=Button(frame1,text='Logout',bg='RED',command=back_to_root)\n",
    "  logout_button.grid(row=4,column=0,columnspan=2,padx=10,pady=15)\n",
    "\n",
    "\n",
    "  root1.mainloop()"
   ]
  }
 ],
 "metadata": {
  "kernelspec": {
   "display_name": "Python 3",
   "language": "python",
   "name": "python3"
  },
  "language_info": {
   "codemirror_mode": {
    "name": "ipython",
    "version": 3
   },
   "file_extension": ".py",
   "mimetype": "text/x-python",
   "name": "python",
   "nbconvert_exporter": "python",
   "pygments_lexer": "ipython3",
   "version": "3.7.3"
  }
 },
 "nbformat": 4,
 "nbformat_minor": 2
}
